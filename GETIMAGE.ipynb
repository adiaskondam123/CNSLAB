{
  "nbformat": 4,
  "nbformat_minor": 0,
  "metadata": {
    "colab": {
      "provenance": [],
      "include_colab_link": true
    },
    "kernelspec": {
      "name": "python3",
      "display_name": "Python 3"
    },
    "language_info": {
      "name": "python"
    }
  },
  "cells": [
    {
      "cell_type": "markdown",
      "metadata": {
        "id": "view-in-github",
        "colab_type": "text"
      },
      "source": [
        "<a href=\"https://colab.research.google.com/github/adiaskondam123/CNSLAB/blob/main/GETIMAGE.ipynb\" target=\"_parent\"><img src=\"https://colab.research.google.com/assets/colab-badge.svg\" alt=\"Open In Colab\"/></a>"
      ]
    },
    {
      "cell_type": "markdown",
      "source": [
        "***MADE IN LOVE WITH KMIT***"
      ],
      "metadata": {
        "id": "hmC5ALeq_FyZ"
      }
    },
    {
      "cell_type": "markdown",
      "source": [
        "SECTIONS LIST\n",
        "[click](https://docs.google.com/spreadsheets/d/14Lve63L2s33nhhNJt3hV28QLhnfVh51t/edit?usp=drive_link&ouid=109425055909182765413&rtpof=true&sd=true)"
      ],
      "metadata": {
        "id": "AFsp8LzVCxkq"
      }
    },
    {
      "cell_type": "code",
      "source": [
        "!pip install gradio --quiet\n"
      ],
      "metadata": {
        "id": "Aa6Z1a6RiGjM"
      },
      "execution_count": 1,
      "outputs": []
    },
    {
      "cell_type": "code",
      "source": [
        "# http://teleuniv.in/trinetra/pages/templates/wrapper/studentmanagement/externalmarks_app.php?sid=24212022"
      ],
      "metadata": {
        "id": "ZzDpqZfGToKY"
      },
      "execution_count": null,
      "outputs": []
    },
    {
      "cell_type": "code",
      "source": [
        "import gradio as gr\n",
        "import requests\n",
        "import base64\n",
        "from io import BytesIO\n",
        "from PIL import Image as PILImage\n",
        "\n",
        "def fetch_student_image(roll_number):\n",
        "    roll_number = roll_number.strip().upper()\n",
        "    if not roll_number:\n",
        "        return None, \"⚠️ Please enter a roll number.\"\n",
        "\n",
        "    image_url = f\"http://teleuniv.in/sanjaya/student-images/{roll_number}.jpg\"\n",
        "\n",
        "    try:\n",
        "        response = requests.get(image_url, stream=True)\n",
        "        if response.status_code == 200:\n",
        "            image = PILImage.open(BytesIO(response.content))\n",
        "            return image, f\"✅ Image found for roll number: {roll_number}\"\n",
        "        else:\n",
        "            return None, f\"❌ Image not found (Status: {response.status_code})\"\n",
        "    except Exception as e:\n",
        "        return None, f\"⚠️ Error: {str(e)}\"\n",
        "\n",
        "# Create the Gradio interface\n",
        "iface = gr.Interface(\n",
        "    fn=fetch_student_image,\n",
        "    inputs=gr.Textbox(label=\"Enter Roll Number (e.g., 21BD1A0510)\", placeholder=\"21BD1A0510\"),\n",
        "    outputs=[gr.Image(label=\"Student Image\"), gr.Textbox(label=\"Status\")],\n",
        "    title=\"🎓 Student Image Finder - KMIT Style\",\n",
        "    description=\"Enter a roll number to fetch the student image. Developed by KMIT Students.\",\n",
        "    theme=\"soft\",\n",
        ")\n",
        "\n",
        "# Launch the app with sharing enabled\n",
        "iface.launch(share=True)\n"
      ],
      "metadata": {
        "colab": {
          "base_uri": "https://localhost:8080/",
          "height": 610
        },
        "id": "cRv4Y4vPcR_q",
        "outputId": "8c6eeb6c-2084-4221-f994-da93b32afc6b"
      },
      "execution_count": 2,
      "outputs": [
        {
          "output_type": "stream",
          "name": "stdout",
          "text": [
            "Colab notebook detected. To show errors in colab notebook, set debug=True in launch()\n",
            "* Running on public URL: https://6cd20db1b460650f73.gradio.live\n",
            "\n",
            "This share link expires in 1 week. For free permanent hosting and GPU upgrades, run `gradio deploy` from the terminal in the working directory to deploy to Hugging Face Spaces (https://huggingface.co/spaces)\n"
          ]
        },
        {
          "output_type": "display_data",
          "data": {
            "text/plain": [
              "<IPython.core.display.HTML object>"
            ],
            "text/html": [
              "<div><iframe src=\"https://6cd20db1b460650f73.gradio.live\" width=\"100%\" height=\"500\" allow=\"autoplay; camera; microphone; clipboard-read; clipboard-write;\" frameborder=\"0\" allowfullscreen></iframe></div>"
            ]
          },
          "metadata": {}
        },
        {
          "output_type": "execute_result",
          "data": {
            "text/plain": []
          },
          "metadata": {},
          "execution_count": 2
        }
      ]
    }
  ]
}